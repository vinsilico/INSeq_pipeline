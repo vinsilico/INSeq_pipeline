{
  "nbformat": 4,
  "nbformat_minor": 0,
  "metadata": {
    "colab": {
      "name": "BS_clean-text.ipynb",
      "provenance": [],
      "collapsed_sections": [],
      "authorship_tag": "ABX9TyOc0t82ed2BBzRMU8LDpXz9",
      "include_colab_link": true
    },
    "kernelspec": {
      "name": "python3",
      "display_name": "Python 3"
    },
    "language_info": {
      "name": "python"
    }
  },
  "cells": [
    {
      "cell_type": "markdown",
      "metadata": {
        "id": "view-in-github",
        "colab_type": "text"
      },
      "source": [
        "<a href=\"https://colab.research.google.com/github/vinsilico/INSeq_pipeline/blob/main/BS_clean_text.ipynb\" target=\"_parent\"><img src=\"https://colab.research.google.com/assets/colab-badge.svg\" alt=\"Open In Colab\"/></a>"
      ]
    },
    {
      "cell_type": "code",
      "metadata": {
        "id": "rCk13DQoCn2H"
      },
      "source": [
        "import collections\n",
        "import os\n",
        "import sys\n",
        "import pandas as pd\n",
        "import readline\n",
        "\n",
        "\n",
        "passed=str(sys.argv)\n",
        "wkdir=os.getcwd()\n",
        "IP_File=wkdir+'/'+str(sys.argv[1])\n",
        "print (\"File 1:\", IP_File)\n",
        "\n",
        "datasetB = pd.read_csv(IP_File, sep=\" \", delimiter=\"\\t\",  header=None)\n",
        "\n",
        "datasetB.to_csv(wkdir+'/'+'Clean-.txt', header=False, index=False, sep='\\t', mode='a')"
      ],
      "execution_count": null,
      "outputs": []
    }
  ]
}