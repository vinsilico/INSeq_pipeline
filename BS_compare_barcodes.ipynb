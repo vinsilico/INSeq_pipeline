{
  "nbformat": 4,
  "nbformat_minor": 0,
  "metadata": {
    "colab": {
      "name": "BS_compare_barcodes.ipynb",
      "provenance": [],
      "collapsed_sections": [],
      "authorship_tag": "ABX9TyP7U4BTzzv8D5lVWHzvGawc",
      "include_colab_link": true
    },
    "kernelspec": {
      "name": "python3",
      "display_name": "Python 3"
    },
    "language_info": {
      "name": "python"
    }
  },
  "cells": [
    {
      "cell_type": "markdown",
      "metadata": {
        "id": "view-in-github",
        "colab_type": "text"
      },
      "source": [
        "<a href=\"https://colab.research.google.com/github/vinsilico/INSeq_pipeline/blob/main/BS_compare_barcodes.ipynb\" target=\"_parent\"><img src=\"https://colab.research.google.com/assets/colab-badge.svg\" alt=\"Open In Colab\"/></a>"
      ]
    },
    {
      "cell_type": "code",
      "metadata": {
        "id": "8qOB4s4Q-IHi"
      },
      "source": [
        "\n",
        "import collections\n",
        "import os\n",
        "import sys\n",
        "import pandas as pd\n",
        "import numpy as np\n",
        "import readline\n",
        "\n",
        "passed=str(sys.argv)\n",
        "wkdir=os.getcwd()\n",
        "IP_File=wkdir+'/'+str(sys.argv[1])\n",
        "IP_File2=wkdir+'/'+str(sys.argv[2])\n",
        "print (\"File 1:\", IP_File)\n",
        "print (\"File 2:\", IP_File2)\n",
        "\n",
        "bedfile = open(IP_File, 'r')\n",
        "TAfile = open(IP_File2, 'r')\n",
        "subfolders_list=[]\n",
        "subfolders = IP_File.split(\".\")\n",
        "subfoldername = subfolders[0]\n",
        "File_name = subfoldername.split(\"/\")\n",
        "subfolders_list1=[]\n",
        "subfolders1 = IP_File2.split(\".\")\n",
        "subfoldername1 = subfolders1[0]\n",
        "File_name1 = subfoldername1.split(\"/\")\n",
        "\n",
        "datasetB = pd.read_csv(IP_File, sep=\" \", delimiter=\"\\t\", header=None)\n",
        "datasetB.columns = [\"ID\", \"BC\", \"Rep\",\"Coord\", \"Strand\", \"Col6\", \"Col7\", \"Col8\", \"Col9\", \"COl10\"]\n",
        "\n",
        "datasetZ = pd.read_csv(IP_File2, sep=\" \", delimiter=\"\\t\",  header=None)\n",
        "datasetZ.columns = [\"ID\", \"BC\", \"Rep\",\"Coord\", \"Strand\", \"Col6\", \"Col7\", \"Col8\", \"Col9\", \"COl10\"]\n",
        "\n",
        "datasetB = datasetB.sort_values(by=['BC'])\n",
        "datasetZ = datasetZ.sort_values(by=['BC'])\n",
        "\n",
        "datasetR = datasetB[datasetB.BC.isin(datasetZ.BC) == False]\n",
        "datasetP = datasetZ[datasetZ.BC.isin(datasetB.BC) == False]\n",
        "datasetW = datasetB[datasetB.BC.isin(datasetZ.BC) == True]\n",
        "datasetY = datasetZ[datasetZ.BC.isin(datasetB.BC) == True]\n",
        "\n",
        "\n",
        "datasetR.to_csv(wkdir+'/'+'UniqueBC-'+File_name[-1]+'.txt', header=False, index=False, sep='\\t')\n",
        "datasetP.to_csv(wkdir+'/'+'UniqueBC-'+File_name1[-1]+'.txt', header=False, index=False, sep='\\t')\n",
        "datasetY.to_csv(wkdir+'/'+'InbothBC-'+File_name1[-1]+'.txt', header=False, index=False, sep='\\t')\n",
        "datasetW.to_csv(wkdir+'/'+'InbothBC-'+File_name[-1]+'.txt', header=False, index=False, sep='\\t')\n",
        "print(\"File written\")"
      ],
      "execution_count": null,
      "outputs": []
    }
  ]
}